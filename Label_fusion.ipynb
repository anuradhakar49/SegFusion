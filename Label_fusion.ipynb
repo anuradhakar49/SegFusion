{
 "cells": [
  {
   "cell_type": "markdown",
   "id": "8c0eff69",
   "metadata": {},
   "source": [
    "## Label based fusion of segmentations"
   ]
  },
  {
   "cell_type": "code",
   "execution_count": null,
   "id": "2b72af42",
   "metadata": {},
   "outputs": [],
   "source": [
    "from skimage.segmentation import join_segmentations\n",
    "from skimage import io\n",
    "from skimage.measure import label\n",
    "\n",
    "import numpy as np"
   ]
  },
  {
   "cell_type": "code",
   "execution_count": null,
   "id": "4e228787",
   "metadata": {},
   "outputs": [],
   "source": [
    "s1 = io.imread(\"path to segmentation result by P1 in .tif\")\n",
    "s2 = io.imread(\"path to segmentation result by P2 in .tif\")\n",
    "\n",
    "s1= np.array(s1).astype(np.uint8)\n",
    "s2= np.array(s2).astype(np.uint8)\n",
    "s3= join_segmentations(s1, s2)\n",
    "\n",
    "s3 = np.array(s3, dtype=np.uint16) \n",
    "\n",
    "io.imsave('/label_fused_result.tif', s3)"
   ]
  }
 ],
 "metadata": {
  "kernelspec": {
   "display_name": "Python 3 (ipykernel)",
   "language": "python",
   "name": "python3"
  },
  "language_info": {
   "codemirror_mode": {
    "name": "ipython",
    "version": 3
   },
   "file_extension": ".py",
   "mimetype": "text/x-python",
   "name": "python",
   "nbconvert_exporter": "python",
   "pygments_lexer": "ipython3",
   "version": "3.9.7"
  }
 },
 "nbformat": 4,
 "nbformat_minor": 5
}
