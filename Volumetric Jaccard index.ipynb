{
 "cells": [
  {
   "cell_type": "markdown",
   "metadata": {},
   "source": [
    "## Volume averaged Jaccard index estimation for a segmented image and a ground truth image"
   ]
  },
  {
   "cell_type": "markdown",
   "metadata": {},
   "source": [
    "This notebook may be used for Volume averaged Jaccard index estimation between two segmented images."
   ]
  },
  {
   "cell_type": "markdown",
   "metadata": {},
   "source": [
    "Original repository: https://gitlab.inria.fr/mosaic/publications/seg_compare"
   ]
  },
  {
   "cell_type": "code",
   "execution_count": null,
   "metadata": {},
   "outputs": [],
   "source": [
    "import os\n",
    "import numpy as np\n",
    "import pandas as pd\n",
    "import scipy.ndimage as nd\n",
    "import matplotlib.pyplot as plt\n",
    "\n",
    "from timagetk.io import imread\n",
    "from timagetk.components import LabelledImage\n",
    "from timagetk.visu.util import glasbey\n",
    "\n",
    "from ctrl.image_overlap import fast_image_overlap3d\n",
    "\n",
    "%matplotlib inline"
   ]
  },
  {
   "cell_type": "markdown",
   "metadata": {},
   "source": [
    "### Data and parameters\n",
    "\n",
    "Make sure to modify paths and filenames appropriately to match your file architecture."
   ]
  },
  {
   "cell_type": "code",
   "execution_count": null,
   "metadata": {},
   "outputs": [],
   "source": [
    "main_directory = os.path.dirname(os.getcwd()) # for example\n",
    "\n",
    "# - Set the predicted segmentation path\n",
    "target_path = main_directory + 'path to segmented image'\n",
    "\n",
    "# - Set the ground-truth segmentation path\n",
    "reference_path = main_directory + 'path to ground truth image'"
   ]
  },
  {
   "cell_type": "code",
   "execution_count": null,
   "metadata": {},
   "outputs": [],
   "source": [
    "slice_index = 50"
   ]
  },
  {
   "cell_type": "markdown",
   "metadata": {},
   "source": [
    "### Image loading\n",
    "\n",
    "We assume that the images have the same shape and voxelsize. We also assume that the background label is equal to 1 in all images."
   ]
  },
  {
   "cell_type": "code",
   "execution_count": null,
   "metadata": {},
   "outputs": [],
   "source": [
    "BACKGROUND_LABEL = 1\n",
    "\n",
    "target_img = LabelledImage(imread(target_path), no_label_id=0)\n",
    "reference_img = LabelledImage(imread(reference_path), no_label_id=0)"
   ]
  },
  {
   "cell_type": "markdown",
   "metadata": {},
   "source": [
    "### Image slice visualization"
   ]
  },
  {
   "cell_type": "code",
   "execution_count": null,
   "metadata": {},
   "outputs": [],
   "source": [
    "def plot_segmentation(img_seg, title, ax, slice_index, extent):\n",
    "    slice_img = img_seg.get_array()[:,:,slice_index].T\n",
    "\n",
    "    barycenter = nd.center_of_mass(np.ones_like(slice_img), slice_img, np.unique(slice_img))\n",
    "    barycenter = dict(zip(np.unique(slice_img), barycenter * np.array(reference_img.voxelsize[:2])))\n",
    "\n",
    "    ax.imshow(slice_img%256, cmap='glasbey', vmin=0, vmax=255, extent=extent, interpolation='none')\n",
    "    ax.set_title(title)\n",
    "\n",
    "    # - Add contour and label annotation\n",
    "    for label in np.unique(slice_img):\n",
    "        if label != 1:\n",
    "            ax.contour(slice_img == label, linewidths=0.1, extent=extent,\n",
    "                                 origin='upper', colors='k')\n",
    "            ax.text(barycenter[label][1],\n",
    "                              barycenter[label][0],\n",
    "                              str(label),ha='center',va='center',size=12)\n",
    "    ax.axis('off')\n",
    "\n",
    "def plot_contour(img_seg, ax, slice_index, extent, color='r'):\n",
    "    slice_img = img_seg.get_array()[:,:,slice_index].T\n",
    "\n",
    "    barycenter = nd.center_of_mass(np.ones_like(slice_img), slice_img, np.unique(slice_img))\n",
    "    barycenter = dict(zip(np.unique(slice_img), barycenter * np.array(reference_img.voxelsize[:2])))\n",
    "\n",
    "    ax.imshow(np.zeros_like(slice_img), cmap='Reds', vmin=0, vmax=1, extent=extent, interpolation='none', alpha=0)\n",
    "    ax.set_title('Superimpose the edges and barycenter')\n",
    "    \n",
    "    # - Add contour and label annotation\n",
    "    for label in np.unique(slice_img):\n",
    "        if label != 1:\n",
    "            ax.contour(slice_img == label, extent=extent,\n",
    "                                 origin='upper', colors=color)\n",
    "            ax.scatter(barycenter[label][1],\n",
    "                       barycenter[label][0],\n",
    "                       s=12, color=color)\n",
    "    ax.axis('off')\n",
    "    \n",
    "figure = plt.figure(0)\n",
    "figure.clf()\n",
    "\n",
    "extent = (0, reference_img.extent[0], reference_img.extent[1],0)\n",
    "\n",
    "# - reference img\n",
    "figure.add_subplot(1, 3, 1)\n",
    "plot_segmentation(img_seg=reference_img, title='Ground-truth segmentation',\n",
    "                  ax=figure.gca(), slice_index=slice_index, extent=extent)\n",
    "\n",
    "# - superimpose images\n",
    "figure.add_subplot(1, 3, 2)\n",
    "plot_contour(img_seg=reference_img, ax=figure.gca(), slice_index=slice_index, extent=extent, color='tab:green')\n",
    "plot_contour(img_seg=target_img, ax=figure.gca(), slice_index=slice_index, extent=extent, color='tab:red')\n",
    "\n",
    "# - target img\n",
    "figure.add_subplot(1, 3, 3)\n",
    "plot_segmentation(img_seg=target_img, title='Predicted segmentation',\n",
    "                  ax=figure.gca(), slice_index=slice_index, extent=extent)\n",
    "\n",
    "figure.set_size_inches(10*2,15)\n",
    "figure.subplots_adjust(wspace=0,hspace=0)\n",
    "figure.tight_layout()"
   ]
  },
  {
   "cell_type": "markdown",
   "metadata": {},
   "source": [
    "### VJI computation\n",
    "\n",
    "Compute the jaccard index between all possible pairs of overlapping cells in the image."
   ]
  },
  {
   "cell_type": "code",
   "execution_count": null,
   "metadata": {},
   "outputs": [],
   "source": [
    "target_cells = [lab for lab in target_img.labels() if lab != BACKGROUND_LABEL] # avoid background\n",
    "reference_cells = [lab for lab in reference_img.labels() if lab != BACKGROUND_LABEL] # avoid background\n",
    "\n",
    "# - Get the jaccard index of pair of reference and target cells\n",
    "# - Reference and target pair of cells that have no intersection are not returned.\n",
    "df_jaccard = fast_image_overlap3d(mother_seg=target_img,\n",
    "                               daughter_seg=reference_img,\n",
    "                               mother_label = target_cells,\n",
    "                               daughter_label= reference_cells,\n",
    "                               method='jaccard', ds=1, verbose=False)\n",
    "df_jaccard.columns = ['target', 'reference', 'jaccard'] # relabel columns\n",
    "\n",
    "print(df_jaccard[:15])"
   ]
  },
  {
   "cell_type": "markdown",
   "metadata": {},
   "source": [
    "Identify for each reference cell, the target cell that maximize their jaccard index."
   ]
  },
  {
   "cell_type": "code",
   "execution_count": null,
   "metadata": {},
   "outputs": [],
   "source": [
    "# - For each reference labels find the target labels that maximize the jaccard index\n",
    "df_jaccard = df_jaccard.loc[df_jaccard.groupby('reference')['jaccard'].idxmax()]\n",
    "print(df_jaccard[:5])"
   ]
  },
  {
   "cell_type": "markdown",
   "metadata": {},
   "source": [
    "Add the missing reference cells (no intersection with any target cells) and calculate the volume of each reference cells."
   ]
  },
  {
   "cell_type": "code",
   "execution_count": null,
   "metadata": {},
   "outputs": [],
   "source": [
    "# - Assert that all the reference labels are in the dataframe (if a reference cell is totally included\n",
    "#   in the target background it wont appear)\n",
    "missing_cells = set(reference_cells) - set(df_jaccard.reference.values)\n",
    "\n",
    "if len(missing_cells) > 0:\n",
    "    # - add them with a jaccard index of 0\n",
    "    for lab in missing_cells:\n",
    "        df_jaccard = df_jaccard.append({'target': 0, 'reference': lab, 'jaccard': 0}, ignore_index=True)\n",
    "\n",
    "# - Add the corresponding volumes (in voxel unit)\n",
    "cell_ref_volume = nd.sum(np.ones_like(reference_img), reference_img, reference_img.labels())\n",
    "cell_ref_volume = {lab: vol for lab, vol in zip(reference_img.labels(), cell_ref_volume)}\n",
    "\n",
    "df_jaccard['volume'] = df_jaccard.apply(lambda x: cell_ref_volume[x.reference], axis=1)\n",
    "print(df_jaccard[:5])"
   ]
  },
  {
   "cell_type": "markdown",
   "metadata": {},
   "source": [
    "Calculate the weighted jaccard index by multiplying the jaccard index by the cell volume."
   ]
  },
  {
   "cell_type": "code",
   "execution_count": null,
   "metadata": {},
   "outputs": [],
   "source": [
    "df_jaccard['weighted_jaccard'] = df_jaccard.jaccard * df_jaccard.volume\n",
    "print(df_jaccard[:5])"
   ]
  },
  {
   "cell_type": "markdown",
   "metadata": {},
   "source": [
    "The volume averaged jaccard index is obtained by summing all the weighted jaccard index and divide them by the total volume of the ground-truth tissue."
   ]
  },
  {
   "cell_type": "code",
   "execution_count": null,
   "metadata": {},
   "outputs": [],
   "source": [
    "total_cell_volume = sum(df_jaccard.volume.values)\n",
    "sum_weighted_ji = sum(df_jaccard.weighted_jaccard.values)\n",
    "vji = sum_weighted_ji / total_cell_volume\n",
    "print(f'Reference img: {os.path.basename(reference_path)} \\nTarget img: {os.path.basename(target_path)}')\n",
    "print(f\"Volume average jaccard index : {np.around(vji, 5)}\")"
   ]
  },
  {
   "cell_type": "markdown",
   "metadata": {},
   "source": [
    "## Save the output Jaccard index for each cell in a .csv file. \n",
    "Note that you will need this CSV file for 3D visualization of segmentation quality using Morphonet"
   ]
  },
  {
   "cell_type": "code",
   "execution_count": null,
   "metadata": {},
   "outputs": [],
   "source": [
    "save_directory = main_directory # set the save folder\n",
    "\n",
    "df_jaccard.to_csv(main_directory + '/ji_results.csv', index=False)"
   ]
  }
 ],
 "metadata": {
  "kernelspec": {
   "display_name": "Python 3 (ipykernel)",
   "language": "python",
   "name": "python3"
  },
  "language_info": {
   "codemirror_mode": {
    "name": "ipython",
    "version": 3
   },
   "file_extension": ".py",
   "mimetype": "text/x-python",
   "name": "python",
   "nbconvert_exporter": "python",
   "pygments_lexer": "ipython3",
   "version": "3.9.7"
  }
 },
 "nbformat": 4,
 "nbformat_minor": 4
}
