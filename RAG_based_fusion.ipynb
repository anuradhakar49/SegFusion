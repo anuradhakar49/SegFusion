{
 "cells": [
  {
   "cell_type": "markdown",
   "id": "9f024423",
   "metadata": {},
   "source": [
    "## Convert two segmentation results to RAGs, fuse them and perform inverse operation to get fused segmentation result"
   ]
  },
  {
   "cell_type": "code",
   "execution_count": null,
   "id": "d40c7a1a",
   "metadata": {},
   "outputs": [],
   "source": [
    "from skimage.future.graph import RAG\n",
    "from skimage import data, io, segmentation, color,filters\n",
    "from matplotlib import pyplot as plt, colors\n",
    "from skimage import morphology, measure, io\n",
    "from skimage.measure import label, regionprops\n",
    "import tifffile as tiff\n",
    "import numpy as np\n",
    "import networkx as nx\n",
    "import pandas as pd\n",
    "from skimage.future import graph"
   ]
  },
  {
   "cell_type": "code",
   "execution_count": null,
   "id": "5b159cc5",
   "metadata": {},
   "outputs": [],
   "source": [
    "i= io.imread('path to original raw image/*.tif')\n",
    "s1= io.imread('path to segmentation result by P1 in .tif')\n",
    "s2= io.imread('path to segmentation result by P2 in .tif')\n"
   ]
  },
  {
   "cell_type": "code",
   "execution_count": null,
   "id": "967678ca",
   "metadata": {},
   "outputs": [],
   "source": [
    "def rag(image, labels):\n",
    "   #initialize the RAG\n",
    "   graph = RAG(labels, connectivity=2)\n",
    "\n",
    "   for n in graph:\n",
    "       graph.nodes[n].update({'labels': [n],'pixel count': 0,\n",
    "                             'total color': np.array([0, 0, 0],\n",
    "                             dtype=np.double)})\n",
    "   #give them values\n",
    "   for index in np.ndindex(labels.shape):\n",
    "       current = labels[index]\n",
    "       graph.nodes[current]['pixel count'] += 1\n",
    "       graph.nodes[current]['total color'] += image[index]\n",
    "\n",
    "   #calculate your own weights here\n",
    "   for x, y, d in graph.edges(data=True):\n",
    "       my_weight = 1  ## setting to 1 now\n",
    "       d['weight'] = my_weight\n",
    "\n",
    "   return graph\n",
    "\n",
    "def node2label(labels, rag):\n",
    "    label_map = np.arange(labels.max() + 1)\n",
    "    for ix, (n, d) in enumerate(rag.nodes(data=True)):\n",
    "        for label in d['labels']:\n",
    "            label_map[label] = ix\n",
    "\n",
    "    return label_map[labels]"
   ]
  },
  {
   "cell_type": "code",
   "execution_count": null,
   "id": "519555aa",
   "metadata": {},
   "outputs": [],
   "source": [
    "### Forward\n",
    "rag1= rag(i,s1)\n",
    "rag2= rag(i,s2)\n",
    "\n",
    "F = nx.compose(rag2,rag1) \n",
    "\n",
    "labels_fus= node2label(s1+s2, F)\n",
    "labels_fus=labels_fus.astype(np.uint16)\n",
    "\n",
    "tiff.imsave('ragfused_resumt.tif', labels_fus)\n"
   ]
  }
 ],
 "metadata": {
  "kernelspec": {
   "display_name": "Python 3 (ipykernel)",
   "language": "python",
   "name": "python3"
  },
  "language_info": {
   "codemirror_mode": {
    "name": "ipython",
    "version": 3
   },
   "file_extension": ".py",
   "mimetype": "text/x-python",
   "name": "python",
   "nbconvert_exporter": "python",
   "pygments_lexer": "ipython3",
   "version": "3.9.7"
  }
 },
 "nbformat": 4,
 "nbformat_minor": 5
}
